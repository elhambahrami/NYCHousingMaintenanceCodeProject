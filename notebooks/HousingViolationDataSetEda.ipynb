{
 "cells": [
  {
   "cell_type": "markdown",
   "metadata": {},
   "source": [
    "### Housing Violations Dataset Exploration\n",
    "\n",
    "Benny Cohen\n",
    "\n",
    "11/06/2019\n"
   ]
  },
  {
   "cell_type": "markdown",
   "metadata": {},
   "source": [
    "Now that we have all of our data, we want to start finding trends and visualizing the data. We come into this asking some very elementary questions. At this point we have no buisness objective although we may notice something and want to delve further into it. We simply want to see what our data looks like. "
   ]
  },
  {
   "cell_type": "code",
   "execution_count": 5,
   "metadata": {},
   "outputs": [],
   "source": [
    "import pandas as pd\n",
    "import matplotlib.pyplot as plt\n",
    "import numpy as np\n",
    "%matplotlib inline\n"
   ]
  },
  {
   "cell_type": "code",
   "execution_count": 16,
   "metadata": {},
   "outputs": [],
   "source": [
    "df = pd.read_csv('../data/clean.csv', parse_dates = ['inspectiondate', 'certifieddate', 'originalcorrectbydate',\n",
    "                                                     'currentstatusdate']).drop('newcorrectbydate',axis=1)"
   ]
  },
  {
   "cell_type": "code",
   "execution_count": 18,
   "metadata": {},
   "outputs": [
    {
     "data": {
      "text/plain": [
       "violationid              49371\n",
       "buildingid               49371\n",
       "boro                     49371\n",
       "zip                      49371\n",
       "inspectiondate           49371\n",
       "certifieddate             8661\n",
       "originalcorrectbydate    48815\n",
       "novdescription           49371\n",
       "class                    49371\n",
       "currentstatus            49371\n",
       "currentstatusdate        49371\n",
       "currentstatusdate        49371\n",
       "dtype: int64"
      ]
     },
     "execution_count": 18,
     "metadata": {},
     "output_type": "execute_result"
    }
   ],
   "source": [
    "df.count()"
   ]
  },
  {
   "cell_type": "markdown",
   "metadata": {},
   "source": [
    "So we see we have a lot of rows to work with. Now on a most basic level we want to see what the status of these violations are"
   ]
  },
  {
   "cell_type": "code",
   "execution_count": 25,
   "metadata": {},
   "outputs": [
    {
     "data": {
      "text/plain": [
       "VIOLATION CLOSED                            41359\n",
       "VIOLATION DISMISSED                          4090\n",
       "FIRST NO ACCESS TO RE- INSPECT VIOLATION     1496\n",
       "NOT COMPLIED WITH                            1334\n",
       "NOV SENT OUT                                  488\n",
       "DEFECT LETTER ISSUED                          185\n",
       "NOV CERTIFIED LATE                            176\n",
       "SECOND NO ACCESS TO RE-INSPECT VIOLATION      146\n",
       "INVALID CERTIFICATION                          35\n",
       "VIOLATION WILL BE REINSPECTED                  31\n",
       "FALSE CERTIFICATION                            21\n",
       "INFO NOV SENT OUT                               6\n",
       "CIV14 MAILED                                    1\n",
       "CERTIFICATION POSTPONMENT DENIED                1\n",
       "NOTICE OF ISSUANCE SENT TO TENANT               1\n",
       "VIOLATION REOPEN                                1\n",
       "Name: currentstatus, dtype: int64"
      ]
     },
     "execution_count": 25,
     "metadata": {},
     "output_type": "execute_result"
    }
   ],
   "source": [
    "statusCounts = df.currentstatus.value_counts()\n",
    "statusCounts"
   ]
  },
  {
   "cell_type": "markdown",
   "metadata": {},
   "source": [
    "Interestingly enough, most of the cases are closed. Now what can cause a violation to be closed? According to the dataset description... `The violation status is closed when the violation is observed/verified as corrected by HPD or as certified by the landlord.`"
   ]
  },
  {
   "cell_type": "markdown",
   "metadata": {},
   "source": [
    "This leads to a noteworthy first observation: *Most violations are in fact corrected for*"
   ]
  },
  {
   "cell_type": "markdown",
   "metadata": {},
   "source": [
    "Now of the ones that aren't... some have been dissmissed, meaning taken away with. Some were not complied with, and others are still in the early stages of processing. Let's normalize these numbers by turning them into percents so that they are easier to look at. "
   ]
  },
  {
   "cell_type": "code",
   "execution_count": 26,
   "metadata": {},
   "outputs": [
    {
     "data": {
      "text/plain": [
       "VIOLATION CLOSED                            83.771850\n",
       "VIOLATION DISMISSED                          8.284215\n",
       "FIRST NO ACCESS TO RE- INSPECT VIOLATION     3.030119\n",
       "NOT COMPLIED WITH                            2.701991\n",
       "NOV SENT OUT                                 0.988435\n",
       "DEFECT LETTER ISSUED                         0.374714\n",
       "NOV CERTIFIED LATE                           0.356485\n",
       "SECOND NO ACCESS TO RE-INSPECT VIOLATION     0.295720\n",
       "INVALID CERTIFICATION                        0.070892\n",
       "VIOLATION WILL BE REINSPECTED                0.062790\n",
       "FALSE CERTIFICATION                          0.042535\n",
       "INFO NOV SENT OUT                            0.012153\n",
       "CIV14 MAILED                                 0.002025\n",
       "CERTIFICATION POSTPONMENT DENIED             0.002025\n",
       "NOTICE OF ISSUANCE SENT TO TENANT            0.002025\n",
       "VIOLATION REOPEN                             0.002025\n",
       "Name: currentstatus, dtype: float64"
      ]
     },
     "execution_count": 26,
     "metadata": {},
     "output_type": "execute_result"
    }
   ],
   "source": [
    "total = df.currentstatus.value_counts().sum()\n",
    "statusCounts/total * 100"
   ]
  },
  {
   "cell_type": "markdown",
   "metadata": {},
   "source": [
    "Viewing the numbers like this makes it really clear that most cases were closed, a whopping 80 percent."
   ]
  },
  {
   "cell_type": "markdown",
   "metadata": {},
   "source": [
    "Now this begs the obvious question: Why?\n",
    "Here are a couple of possibilities...\n",
    "1. Records tend to only be entered into the system when they are closed. \n",
    "2. We are looking at data from a very narrow time span."
   ]
  },
  {
   "cell_type": "markdown",
   "metadata": {},
   "source": [
    "Now 1 would be a data entry problem. 2 though we could really easily verify. Let's graph number of incidents per month...\n",
    "This is going to be scary though since we need to sort the data to construct a line plot. "
   ]
  },
  {
   "cell_type": "code",
   "execution_count": 36,
   "metadata": {},
   "outputs": [],
   "source": [
    "df['monthCurrentStatus'] = df.currentstatusdate.dt.to_period('M') #First we extract the months/year\n",
    "sorted_df = df.sort_values('monthCurrentStatus') # beware.... this is slow....That's why I got rid of days. "
   ]
  },
  {
   "cell_type": "code",
   "execution_count": 54,
   "metadata": {},
   "outputs": [
    {
     "data": {
      "text/plain": [
       "monthCurrentStatus\n",
       "2006-07    11\n",
       "2007-06    22\n",
       "2008-06    22\n",
       "2008-08    24\n",
       "2008-12    11\n",
       "Freq: M, dtype: int64"
      ]
     },
     "execution_count": 54,
     "metadata": {},
     "output_type": "execute_result"
    }
   ],
   "source": [
    "counts = sorted_df.groupby('monthCurrentStatus').count().sum(axis=1) #Yes we could use value_counts but then we have to resort\n",
    "counts.head()"
   ]
  },
  {
   "cell_type": "code",
   "execution_count": 58,
   "metadata": {},
   "outputs": [
    {
     "data": {
      "text/plain": [
       "Text(0.5, 1.0, 'Number of Incidents over Time')"
      ]
     },
     "execution_count": 58,
     "metadata": {},
     "output_type": "execute_result"
    },
    {
     "data": {
      "image/png": "[encoded data removed]",
      "text/plain": [
       "<Figure size 432x288 with 1 Axes>"
      ]
     },
     "metadata": {
      "needs_background": "light"
     },
     "output_type": "display_data"
    }
   ],
   "source": [
    "counts.plot()\n",
    "plt.title(\"Number of Incidents Statuses over Time\")"
   ]
  },
  {
   "cell_type": "markdown",
   "metadata": {},
   "source": [
    "Now we immediatly see that a lot our incidents were torwards the end of 2014 and less were reported since then. \n",
    "This doesn't iteself answer our original question of why are almost all the statuses closed but it seems like most of the data was entered during this period when the data was marked as completed."
   ]
  },
  {
   "cell_type": "markdown",
   "metadata": {},
   "source": [
    "Another important question we have to ask ourselves is what are these incidents? Our dataset provides us with a column that can help us answer this by telling us how severe incidents are"
   ]
  },
  {
   "cell_type": "code",
   "execution_count": 62,
   "metadata": {},
   "outputs": [
    {
     "data": {
      "text/plain": [
       "<matplotlib.axes._subplots.AxesSubplot at 0x1ea00dac908>"
      ]
     },
     "execution_count": 62,
     "metadata": {},
     "output_type": "execute_result"
    },
    {
     "data": {
      "image/png": "[encoded data removed]",
      "text/plain": [
       "<Figure size 432x288 with 1 Axes>"
      ]
     },
     "metadata": {
      "needs_background": "light"
     },
     "output_type": "display_data"
    }
   ],
   "source": [
    "class_counts = df['class'].value_counts()\n",
    "class_counts.plot.bar()"
   ]
  },
  {
   "cell_type": "markdown",
   "metadata": {},
   "source": [
    "We see that B incidents, medium severity are the majority. Class C incidents, the highest seriousness is about equal with A, low seriousness. Class I aren't really violations but simply informational notices ('thus the letter i')"
   ]
  },
  {
   "cell_type": "markdown",
   "metadata": {},
   "source": [
    "So now we contextualized our data a bit more... We know when the data was from and we know the what: that most of the rows show that the incidents were resolved and most are medium severity. Let's now focus on the where. Where do most incidents take place? Also which areas are there the most severe incidents?"
   ]
  },
  {
   "cell_type": "code",
   "execution_count": 79,
   "metadata": {},
   "outputs": [
    {
     "data": {
      "text/plain": [
       "Text(0.5, 1.0, 'Incidents per boro')"
      ]
     },
     "execution_count": 79,
     "metadata": {},
     "output_type": "execute_result"
    },
    {
     "data": {
      "image/png": "[encoded data removed]",
      "text/plain": [
       "<Figure size 432x288 with 1 Axes>"
      ]
     },
     "metadata": {
      "needs_background": "light"
     },
     "output_type": "display_data"
    }
   ],
   "source": [
    "plt.bar(df['boro'].unique(), df['boro'].value_counts())\n",
    "plt.title(\"Incidents per boro\")"
   ]
  },
  {
   "cell_type": "markdown",
   "metadata": {},
   "source": [
    "Queens has the most number of incidents with Manhattan, the Bronx, and Staten Island significantly less."
   ]
  },
  {
   "cell_type": "code",
   "execution_count": null,
   "metadata": {},
   "outputs": [],
   "source": []
  },
  {
   "cell_type": "markdown",
   "metadata": {},
   "source": [
    "Now let's try to see if there is anything problematic about how long each boro takes to respond to incidents"
   ]
  },
  {
   "cell_type": "code",
   "execution_count": 80,
   "metadata": {},
   "outputs": [],
   "source": [
    "inspection_date = df['inspectiondate']\n",
    "current_status_date = df['currentstatusdate']"
   ]
  },
  {
   "cell_type": "code",
   "execution_count": 81,
   "metadata": {},
   "outputs": [],
   "source": [
    "df['days_between'] = pd.to_timedelta(current_status_date - inspection_date, unit='d').dt.days\n",
    "closed_issues = df[df['currentstatus'] == 'VIOLATION CLOSED']"
   ]
  },
  {
   "cell_type": "code",
   "execution_count": 82,
   "metadata": {},
   "outputs": [
    {
     "data": {
      "text/html": [
       "<div>\n",
       "<style scoped>\n",
       "    .dataframe tbody tr th:only-of-type {\n",
       "        vertical-align: middle;\n",
       "    }\n",
       "\n",
       "    .dataframe tbody tr th {\n",
       "        vertical-align: top;\n",
       "    }\n",
       "\n",
       "    .dataframe thead th {\n",
       "        text-align: right;\n",
       "    }\n",
       "</style>\n",
       "<table border=\"1\" class=\"dataframe\">\n",
       "  <thead>\n",
       "    <tr style=\"text-align: right;\">\n",
       "      <th></th>\n",
       "      <th>days_between</th>\n",
       "      <th>boro</th>\n",
       "    </tr>\n",
       "  </thead>\n",
       "  <tbody>\n",
       "    <tr>\n",
       "      <th>0</th>\n",
       "      <td>8066</td>\n",
       "      <td>QUEENS</td>\n",
       "    </tr>\n",
       "    <tr>\n",
       "      <th>1</th>\n",
       "      <td>7568</td>\n",
       "      <td>QUEENS</td>\n",
       "    </tr>\n",
       "    <tr>\n",
       "      <th>2</th>\n",
       "      <td>7568</td>\n",
       "      <td>QUEENS</td>\n",
       "    </tr>\n",
       "    <tr>\n",
       "      <th>3</th>\n",
       "      <td>7566</td>\n",
       "      <td>QUEENS</td>\n",
       "    </tr>\n",
       "    <tr>\n",
       "      <th>4</th>\n",
       "      <td>11005</td>\n",
       "      <td>BROOKLYN</td>\n",
       "    </tr>\n",
       "  </tbody>\n",
       "</table>\n",
       "</div>"
      ],
      "text/plain": [
       "   days_between      boro\n",
       "0          8066    QUEENS\n",
       "1          7568    QUEENS\n",
       "2          7568    QUEENS\n",
       "3          7566    QUEENS\n",
       "4         11005  BROOKLYN"
      ]
     },
     "execution_count": 82,
     "metadata": {},
     "output_type": "execute_result"
    }
   ],
   "source": [
    "daysOpenDf = closed_issues[['days_between', 'boro']]\n",
    "daysOpenDf.head()"
   ]
  },
  {
   "cell_type": "code",
   "execution_count": 83,
   "metadata": {},
   "outputs": [],
   "source": [
    "daysOpenSeries = daysOpenDf.groupby('boro').median() #median to ignore outliers "
   ]
  },
  {
   "cell_type": "code",
   "execution_count": 84,
   "metadata": {},
   "outputs": [
    {
     "data": {
      "text/plain": [
       "<matplotlib.axes._subplots.AxesSubplot at 0x1ea0570ee10>"
      ]
     },
     "execution_count": 84,
     "metadata": {},
     "output_type": "execute_result"
    },
    {
     "data": {
      "image/png": "[encoded data removed]",
      "text/plain": [
       "<Figure size 432x288 with 1 Axes>"
      ]
     },
     "metadata": {
      "needs_background": "light"
     },
     "output_type": "display_data"
    }
   ],
   "source": [
    "daysOpenSeries.plot.bar()"
   ]
  },
  {
   "cell_type": "markdown",
   "metadata": {},
   "source": [
    "Staten Island seems to take the longest to repond to incidents. They also have the fewest number of incidents so this difference might not be significant. It's a pretty noteworthy observation that these numbers don't differ so much. "
   ]
  },
  {
   "cell_type": "code",
   "execution_count": null,
   "metadata": {},
   "outputs": [],
   "source": []
  }
 ],
 "metadata": {
  "kernelspec": {
   "display_name": "Python 3",
   "language": "python",
   "name": "python3"
  },
  "language_info": {
   "codemirror_mode": {
    "name": "ipython",
    "version": 3
   },
   "file_extension": ".py",
   "mimetype": "text/x-python",
   "name": "python",
   "nbconvert_exporter": "python",
   "pygments_lexer": "ipython3",
   "version": "3.7.1"
  }
 },
 "nbformat": 4,
 "nbformat_minor": 2
}
